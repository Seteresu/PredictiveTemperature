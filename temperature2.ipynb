import paho.mqtt.client as mqtt
import numpy as np
from sklearn.linear_model import LinearRegression

# ====== HiveMQ Cloud credentials ======
#Changes MQTT_Broker, MQTT_PORT, MQTT_USERNAME, MQTT_PASSWORD, MQTTT_TOPIC to make sure it operates. 
MQTT_BROKER = "fd69f6a6be424fd3aa5e479fd691d34c.s1.eu.hivemq.cloud"
MQTT_PORT = 8883
MQTT_USERNAME = "hivemq.webclient.1746412890489"
MQTT_PASSWORD = "CU17#8nEd0*YDr%p$ziB"
MQTT_TOPIC = "room/data"

temps = []

def on_connect(client, userdata, flags, rc):
    if rc == 0:
        print("Connected to HiveMQ Cloud")
        client.subscribe(MQTT_TOPIC)
    else:
        print(f"Connection failed with code {rc}")

def on_message(client, userdata, msg):
    global temps
    payload = msg.payload.decode()
    try:
        temp, _ = map(float, payload.split(","))
        temps.append(temp)
        print(f"Received temp: {temp}")

        if len(temps) >= 20:
            # Stop after collecting 20 values
            client.disconnect()
    except Exception as e:
        print("Bad payload:", payload, "| Error:", e)

# Setup secure MQTT client
client = mqtt.Client()
client.username_pw_set(MQTT_USERNAME, MQTT_PASSWORD)
client.tls_set()  # Use default cert store
client.on_connect = on_connect
client.on_message = on_message

print("Connecting to broker...")
client.connect(MQTT_BROKER, MQTT_PORT)
client.loop_forever()

# ======== Predict Next Temp (After 20 values) ========
if len(temps) >= 2:
    X = np.array(range(len(temps))).reshape(-1, 1)
    y = np.array(temps).reshape(-1, 1)
    model = LinearRegression().fit(X, y)
    predicted_temp = model.predict([[len(temps)]])
    print("Next Predicted Temp:", round(predicted_temp[0][0], 2))
else:
    print("Not enough data for prediction.")
